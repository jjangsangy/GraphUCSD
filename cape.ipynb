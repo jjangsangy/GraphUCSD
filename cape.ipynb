{
 "cells": [
  {
   "cell_type": "markdown",
   "metadata": {
    "slideshow": {
     "slide_type": "slide"
    }
   },
   "source": [
    "# SDHacks 2015 Talk\n",
    "\n",
    "# Anatomy of Web Scrapers: Building Data Apps\n",
    "\n",
    "```\n",
    "$ whoami\n",
    "```\n",
    "\n",
    "```python\n",
    "{\n",
    "    \"name\": \"Sang Han\",\n",
    "    \"work\": {\n",
    "         \"company\": \"Qadium\",\n",
    "        \"position\": \"Data Scientist\",\n",
    "     \"description\": \"Cybersecurity, Search and Machine Learning\"\n",
    "    }\n",
    "    \"school\": {\n",
    "           \"name\": \"University of California: San Diego\",\n",
    "        \"college\": \"Warren College\",\n",
    "           \"year\": 2011,\n",
    "          \"major\": [\"Physics\", \"Psycology\"]\n",
    "           \n",
    "    }\n",
    "    \"website\": \"http://sanghan.me\",\n",
    "     \"github\": \"https://github.com/jjangsangy\"\n",
    "}\n",
    "```"
   ]
  },
  {
   "cell_type": "markdown",
   "metadata": {
    "slideshow": {
     "slide_type": "slide"
    }
   },
   "source": [
    "## [GraphUCSD](http://tabsoft.co/1B96Keb):\n",
    "\n",
    "#### Class Study App using UCSD CAPE Data\n",
    "Create a interactive visualization composed by the CAPE surveys filled at the end of each quarter\n",
    "__Code__: [Github](https://gist.github.com/jjangsangy/ef0d9b534c5f4ab58422)\n",
    "\n",
    "![graph_ucsd](http://i.imgur.com/DufDtIE.png)\n",
    "\n",
    "------"
   ]
  },
  {
   "cell_type": "markdown",
   "metadata": {
    "slideshow": {
     "slide_type": "slide"
    }
   },
   "source": [
    "Installation\n",
    "=======\n",
    "\n",
    "Easy way (Only OS X and Linux)\n",
    "----------------------------\n",
    "\n",
    "```\n",
    "$ make\n",
    "```\n",
    "\n",
    "Hard Way (Windows)\n",
    "==================\n",
    "\n",
    "Install Python using Anacondas\n",
    "\n",
    "[Anacondas Python Distribution](http://continuum.io/downloads)\n",
    "\n",
    "Install Python Packages\n",
    "```\n",
    "pip install -r requirements.txt\n",
    "```"
   ]
  },
  {
   "cell_type": "markdown",
   "metadata": {
    "slideshow": {
     "slide_type": "slide"
    }
   },
   "source": [
    "# Important Libraries\n",
    "\n",
    "Basically just scraped cape website using Python (Both Python 2 and Python 3 Work), and I used PostgreSQL as the backend. Took about a day to write, and then another day just messing around to get everything to fit the schema, so it was a fun weekend project. The packages that are required to run the scraper are\n",
    "\n",
    "* [requests](https://github.com/kennethreitz/requests): for connecting to the site\n",
    "* [BeautifulSoup4](https://github.com/jjangsangy/BeautifulSoup4): for parsing\n",
    "* [pandas](http://pandas.pydata.org/):  for data mining\n",
    "* [SQLAlchemy](http://www.sqlalchemy.org/) as ORM.\n",
    "\n",
    "The [Anacondas Python Distribution](https://store.continuum.io/cshop/anaconda/) is like the easiest way to get all the packages needed if you wish to try out the code yourself.\n",
    "\n",
    "I also use a ThreadPool for making connections asynchronously, so that this doesn't take a million years lol.\n",
    "\n",
    "# Visualization\n",
    "\n",
    "The visualizations I used here are Tableau"
   ]
  },
  {
   "cell_type": "markdown",
   "metadata": {
    "slideshow": {
     "slide_type": "slide"
    }
   },
   "source": [
    "# Database\n",
    "\n",
    "So most of the code is actually data munging and cleaning up the data in order to fit the schema for PostgreSQL. \n",
    "\n",
    "Ultimately, the schema for Postgres looks like this.\n",
    "\n",
    "![Schema](http://i.imgur.com/JpMoiIz.jpg?1)\n",
    "\n",
    "This image is a little bit old, the new schema is a little different, but you get the idea."
   ]
  },
  {
   "cell_type": "markdown",
   "metadata": {
    "slideshow": {
     "slide_type": "slide"
    }
   },
   "source": [
    "# A Note on Scraping\n",
    "\n",
    "I know that usually it's not polite to scrape from a service if they already provide an API, like reddit for instance. However, when I went to go look for one, I couldn't find any, so that gave me the green light to go ahead and write a scraper. And honestly, ever since I was a student (like 3 years ago), I was always unsatisfied with CAPE, so this is kind of my way of liberating the data so that students can access it better.\n",
    "\n",
    "# Etc..\n",
    "\n",
    "Currently it only queries about 30-40 or so different departments and grabs the tables generated for those queries.\n",
    "\n",
    "However, every single class also has it's own page, but since I didn't want to make 20,000 HTTP requests, I went and only grabbed the front matter.\n",
    "\n",
    "This kind of opens it up for anyone else, or even myself to build a service that takes into account the rest of the data. In the scraper itself, I've created a column called `link` that actually points to the individual CAPE's for classes, so I've made it really easy for people to do this."
   ]
  },
  {
   "cell_type": "markdown",
   "metadata": {},
   "source": [
    "# The Code"
   ]
  },
  {
   "cell_type": "code",
   "execution_count": 1,
   "metadata": {
    "collapsed": false,
    "slideshow": {
     "slide_type": "skip"
    }
   },
   "outputs": [],
   "source": [
    "from __future__ import print_function\n",
    "\n",
    "import requests\n",
    "import sys\n",
    "import itertools\n",
    "import logging\n",
    "import string\n",
    "import os\n",
    "\n",
    "import pandas as pd\n",
    "import numpy as np\n",
    "\n",
    "from bs4 import BeautifulSoup\n",
    "from sqlalchemy import create_engine\n",
    "from sqlalchemy_utils import database_exists, create_database\n",
    "from operator import itemgetter\n",
    "from multiprocessing.dummy import Pool as ThreadPool\n",
    "\n",
    "try:\n",
    "    from urllib.parse import urljoin\n",
    "except ImportError:\n",
    "    from urlparse import urljoin"
   ]
  },
  {
   "cell_type": "markdown",
   "metadata": {
    "slideshow": {
     "slide_type": "slide"
    }
   },
   "source": [
    "# Making a HTTP Connection"
   ]
  },
  {
   "cell_type": "code",
   "execution_count": 2,
   "metadata": {
    "collapsed": false,
    "slideshow": {
     "slide_type": "subslide"
    }
   },
   "outputs": [
    {
     "name": "stdout",
     "output_type": "stream",
     "text": [
      "<!doctype html><html itemscope=\"\" itemtype=\"http://schema.org/WebPage\" lang=\"en\"><head><meta content=\"Search the world's information, including webpages, images, videos and more. Google has many special features to help you find exactly what you're looking for.\" name=\"description\"><meta content=\"noodp\" name=\"robots\"><meta content=\"/images/branding/googleg/1x/googleg_standard_color_128dp.png\" itemprop=\"image\"><title>Google</title><script>(function(){window.google={kEI:'cR4QVr_8MJTnoASfiJvQBg',kEXPI:'3700062,3700298,3700381,4029815,4031109,4032677,4033307,4033344,4034882,4036527,4037333,4037569,4038012,4040676,4041440,4041507,4041836,4042158,4042180,4042491,4042969,4043030,4043255,4043411,4043448,4043449,4043563,4043596,4044246,4044606,4044864,4045003,4045717,4045841,4045872,4046080,4046304,4046400,4046717,4046906,4047131,4047492,4047530,4047684,4047772,4047913,4048007,4048011,4048363,4048512,4048835,4048854,4048909,4049132,4049133,8300096,8300199,8300202,8500572,8501973,8501979,8502095,8502221,8502248,8502251,8502312,8502315,10200083,10200096,10201271',authuser:0,kscs:'c9c918f0_10'};google.kHL='en';})();(function(){google.lc=[];google.li=0;google.getEI=function(a){for(var b;a&&(!a.getAttribute||!(b=a.getAttribute(\"eid\")));)a=a.parentNode;return b||google.kEI};google.getLEI=function(a){for(var b=null;a&&(!a.getAttribute||!(b=a.getAttribute(\"leid\")));)a=a.parentNode;return b};google.https=function(){return\"https:\"==window.location.protocol};google.ml=function(){return null};google.time=function(){return(new Date).getTime()};google.log=function(a,b,d,e,g){a=google.logUrl(a,b,d,e,g);if(\"\"!=a){b=new Image;var c=google.lc,f=google.li;c[f]=b;b.onerror=b.onload=b.onabort=function(){delete c[f]};window.google&&window.google.vel&&window.google.vel.lu&&window.google.vel.lu(a);b.src=a;google.li=f+1}};google.logUrl=function(a,b,d,e,g){var c=\"\",f=google.ls||\"\";if(!d&&-1==b.search(\"&ei=\")){var h=google.getEI(e),c=\"&ei=\"+h;-1==b.search(\"&lei=\")&&((e=google.getLEI(e))?c+=\"&lei=\"+e:h!=google.kEI&&(c+=\"&lei=\"+google.kEI))}a=d||\"/\"+(g||\"gen_204\")+\"?atyp=i&ct=\"+a+\"&cad=\"+b+c+f+\"&zx=\"+google.time();/^http:/i.test(a)&&google.https()&&(google.ml(Error(\"a\"),!1,{src:a,glmm:1}),a=\"\");return a};google.y={};google.x=function(a,b){google.y[a.id]=[a,b];return!1};google.load=function(a,b,d){google.x({id:a+k++},function(){google.load(a,b,d)})};var k=0;})();var _gjwl=location;function _gjuc(){var a=_gjwl.href.indexOf(\"#\");if(0<=a&&(a=_gjwl.href.substring(a),0<a.indexOf(\"&q=\")||0<=a.indexOf(\"#q=\"))&&(a=a.substring(1),-1==a.indexOf(\"#\"))){for(var d=0;d<a.length;){var b=d;\"&\"==a.charAt(b)&&++b;var c=a.indexOf(\"&\",b);-1==c&&(c=a.length);b=a.substring(b,c);if(0==b.indexOf(\"fp=\"))a=a.substring(0,d)+a.substring(c,a.length),c=d;else if(\"cad=h\"==b)return 0;d=c}_gjwl.href=\"/search?\"+a+\"&cad=h\";return 1}return 0}\n",
      "function _gjh(){!_gjuc()&&window.google&&google.x&&google.x({id:\"GJH\"},function(){google.nav&&google.nav.gjh&&google.nav.gjh()})};window._gjh&&_gjh();</script><style>#gbar,#guser{font-size:13px;padding-top:1px !important;}#gbar{height:22px}#guser{padding-bottom:7px !important;text-align:right}.gbh,.gbd{border-top:1px solid #c9d7f1;font-size:1px}.gbh{height:0;position:absolute;top:24px;width:100%}@media all{.gb1{height:22px;margin-right:.5em;vertical-align:top}#gbar{float:left}}a.gb1,a.gb4{text-decoration:underline !important}a.gb1,a.gb4{color:#00c !important}.gbi .gb4{color:#dd8e27 !important}.gbf .gb4{color:#900 !important}\n",
      "</style><style>body,td,a,p,.h{font-family:arial,sans-serif}body{margin:0;overflow-y:scroll}#gog{padding:3px 8px 0}td{line-height:.8em}.gac_m td{line-height:17px}form{margin-bottom:20px}.h{color:#36c}.q{color:#00c}.ts td{padding:0}.ts{border-collapse:collapse}em{font-weight:bold;font-style:normal}.lst{height:25px;width:496px}.gsfi,.lst{font:18px arial,sans-serif}.gsfs{font:17px arial,sans-serif}.ds{display:inline-box;display:inline-block;margin:3px 0 4px;margin-left:4px}input{font-family:inherit}a.gb1,a.gb2,a.gb3,a.gb4{color:#11c !important}body{background:#fff;color:black}a{color:#11c;text-decoration:none}a:hover,a:active{text-decoration:underline}.fl a{color:#36c}a:visited{color:#551a8b}a.gb1,a.gb4{text-decoration:underline}a.gb3:hover{text-decoration:none}#ghead a.gb2:hover{color:#fff !important}.sblc{padding-top:5px}.sblc a{display:block;margin:2px 0;margin-left:13px;font-size:11px}.lsbb{background:#eee;border:solid 1px;border-color:#ccc #999 #999 #ccc;height:30px}.lsbb{display:block}.ftl,#fll a{display:inline-block;margin:0 12px}.lsb{background:url(/images/srpr/nav_logo80.png) 0 -258px repeat-x;border:none;color:#000;cursor:pointer;height:30px;margin:0;outline:0;font:15px arial,sans-serif;vertical-align:top}.lsb:active{background:#ccc}.lst:focus{outline:none}</style><script></script><link href=\"/images/branding/product/ico/googleg_lodp.ico\" rel=\"shortcut icon\"></head><body bgcolor=\"#fff\"><script>(function(){var src='/images/nav_logo229.png';var iesg=false;document.body.onload = function(){window.n && window.n();if (document.images){new Image().src=src;}\n",
      "if (!iesg){document.f&&document.f.q.focus();document.gbqf&&document.gbqf.q.focus();}\n",
      "}\n",
      "})();</script><div id=\"mngb\">    <div id=gbar><nobr><b class=gb1>Search</b> <a class=gb1 href=\"http://www.google.com/imghp?hl=en&tab=wi\">Images</a> <a class=gb1 href=\"http://maps.google.com/maps?hl=en&tab=wl\">Maps</a> <a class=gb1 href=\"https://play.google.com/?hl=en&tab=w8\">Play</a> <a class=gb1 href=\"http://www.youtube.com/?tab=w1\">YouTube</a> <a class=gb1 href=\"http://news.google.com/nwshp?hl=en&tab=wn\">News</a> <a class=gb1 href=\"https://mail.google.com/mail/?tab=wm\">Gmail</a> <a class=gb1 href=\"https://drive.google.com/?tab=wo\">Drive</a> <a class=gb1 style=\"text-decoration:none\" href=\"http://www.google.com/intl/en/options/\"><u>More</u> &raquo;</a></nobr></div><div id=guser width=100%><nobr><span id=gbn class=gbi></span><span id=gbf class=gbf></span><span id=gbe></span><a href=\"http://www.google.com/history/optout?hl=en\" class=gb4>Web History</a> | <a  href=\"/preferences?hl=en\" class=gb4>Settings</a> | <a target=_top id=gb_70 href=\"https://accounts.google.com/ServiceLogin?hl=en&continue=http://www.google.com/\" class=gb4>Sign in</a></nobr></div><div class=gbh style=left:0></div><div class=gbh style=right:0></div>    </div><center><span id=\"prt\" style=\"display:block\"> <div><style>.pmoabs{background-color:#fff;border:1px solid #E5E5E5;color:#666;font-size:13px;padding-bottom:20px;position:absolute;right:2px;top:3px;z-index:986}#pmolnk{border-radius:2px;-moz-border-radius:2px;-webkit-border-radius:2px}.kd-button-submit{border:1px solid #3079ed;background-color:#4d90fe;background-image:-webkit-gradient(linear,left top,left bottom,from(#4d90fe),to(#4787ed));background-image:-webkit-linear-gradient(top,#4d90fe,#4787ed);background-image:-moz-linear-gradient(top,#4d90fe,#4787ed);background-image:-ms-linear-gradient(top,#4d90fe,#4787ed);background-image:-o-linear-gradient(top,#4d90fe,#4787ed);background-image:linear-gradient(top,#4d90fe,#4787ed);filter:progid:DXImageTransform.Microsoft.gradient(startColorStr='#4d90fe',EndColorStr='#4787ed')}.kd-button-submit:hover{border:1px solid #2f5bb7;background-color:#357ae8;background-image:-webkit-gradient(linear,left top,left bottom,from(#4d90fe),to(#357ae8));background-image:-webkit-linear-gradient(top,#4d90fe,#357ae8);background-image:-moz-linear-gradient(top,#4d90fe,#357ae8);background-image:-ms-linear-gradient(top,#4d90fe,#357ae8);background-image:-o-linear-gradient(top,#4d90fe,#357ae8);background-image:linear-gradient(top,#4d90fe,#357ae8);filter:progid:DXImageTransform.Microsoft.gradient(startColorStr='#4d90fe',EndColorStr='#357ae8')}.kd-button-submit:active{-webkit-box-shadow:inset 0 1px 2px rgba(0,0,0,0.3);-moz-box-shadow:inset 0 1px 2px rgba(0,0,0,0.3);box-shadow:inset 0 1px 2px rgba(0,0,0,0.3)}#pmolnk a{color:#fff;display:inline-block;font-weight:bold;padding:5px 20px;text-decoration:none;white-space:nowrap}.xbtn{color:#999;cursor:pointer;font-size:23px;line-height:5px;padding-top:5px}.padi{padding:0 8px 0 10px}.padt{padding:5px 20px 0 0;color:#444}.pads{text-align:left;max-width:200px}</style> <div class=\"pmoabs\" id=\"pmocntr2\" style=\"behavior:url(#default#userdata);display:none\"> <table border=\"0\"> <tr> <td colspan=\"2\"> <div class=\"xbtn\" onclick=\"google.promos&&google.promos.toast&& google.promos.toast.cpc()\" style=\"float:right\">&times;</div> </td> </tr> <tr> <td class=\"padi\" rowspan=\"2\"> <img src=\"/images/icons/product/chrome-48.png\"> </td> <td class=\"pads\">A better way to browse the web</td> </tr> <tr> <td class=\"padt\"> <div class=\"kd-button-submit\" id=\"pmolnk\"> <a href=\"/chrome/browser/?hl=en&amp;brand=CHNG&amp;utm_source=en-hpp&amp;utm_medium=hpp&amp;utm_campaign=en\" onclick=\"google.promos&&google.promos.toast&& google.promos.toast.cl()\">Get Google Chrome</a> </div> </td> </tr> </table> </div> <script type=\"text/javascript\">(function(){var a={v:{}};a.v.Ja=50;a.v.Ha=10;a.v.oa=\"body\";a.v.kb=!0;a.v.nb=function(b,c){var d=a.v.Va();a.v.Xa(d,b,c);a.v.ob(d);a.v.kb&&a.v.lb(d)};a.v.ob=function(b){(b=a.v.qa(b))&&0<b.forms.length&&b.forms[0].submit()};a.v.Va=function(){var b=document.createElement(\"iframe\");b.height=0;b.width=0;b.style.overflow=\"hidden\";b.style.top=b.style.left=\"-100px\";b.style.position=\"absolute\";document.body.appendChild(b);return b};a.v.qa=function(b){return b.contentDocument||b.contentWindow.document};a.v.Xa=function(b,c,d){b=a.v.qa(b);b.open();d=[\"<\",a.v.oa,'><form method=POST action=\"',d,'\">'];for(var e in c)c.hasOwnProperty(e)&&d.push('<textarea name=\"',e,'\">',c[e],\"</textarea>\");d.push(\"</form></\",a.v.oa,\">\");b.write(d.join(\"\"));b.close()};a.v.ta=function(b,c){c>a.v.Ha?google&&google.ml&&google.ml(Error(\"ogcdr\"),!1,{cause:\"timeout\"}):b.contentWindow?a.v.mb(b):window.setTimeout(function(){a.v.ta(b,c+1)},a.v.Ja)};a.v.mb=function(b){document.body.removeChild(b)};a.v.lb=function(b){a.v.Ta(b,\"load\",function(){a.v.ta(b,0)})};a.v.Ta=function(b,c,d){b.addEventListener?b.addEventListener(c,d,!1):b.attachEvent&&b.attachEvent(\"on\"+c,d)};var m={rb:0,N:1,O:2,U:5};a.s={};a.s.W={Da:\"i\",T:\"d\",Fa:\"l\"};a.s.K={X:\"0\",P:\"1\"};a.s.Y={V:1,T:2,S:3};a.s.I={xa:\"a\",Ba:\"g\",M:\"c\",Pa:\"u\",Oa:\"t\",X:\"p\",Ia:\"pid\",za:\"eid\",Qa:\"at\"};a.s.Ea=window.location.protocol+\"//www.google.com/_/og/promos/\";a.s.Aa=\"g\";a.s.Ra=\"z\";a.s.ia=function(b,c,d,e){var f=null;switch(c){case m.N:f=window.gbar.up.gpd(b,d,!0);break;case m.U:f=window.gbar.up.gcc(e)}return null==f?0:parseInt(f,10)};a.s.ab=function(b,c,d){return c==m.N?null!=window.gbar.up.gpd(b,d,!0):!1};a.s.Z=function(b,c,d,e,f,h,k,l){var g={};g[a.s.I.X]=b;g[a.s.I.Ba]=c;g[a.s.I.xa]=d;g[a.s.I.Qa]=e;g[a.s.I.za]=f;g[a.s.I.Ia]=1;k&&(g[a.s.I.M]=k);l&&(g[a.s.I.Pa]=l);if(h)g[a.s.I.Oa]=h;else return google.ml(Error(\"knu\"),!1,{cause:\"Token is not found\"}),null;return g};a.s.la=function(b,c,d){if(b){var e=c?a.s.Aa:a.s.Ra;c&&d&&(e+=\"?authuser=\"+d);a.v.nb(b,a.s.Ea+e)}};a.s.Wa=function(b,c,d,e,f,h,k){b=a.s.Z(c,b,a.s.W.T,a.s.Y.T,d,f,null,e);a.s.la(b,h,k)};a.s.Za=function(b,c,d,e,f,h,k){b=a.s.Z(c,b,a.s.W.Da,a.s.Y.V,d,f,e,null);a.s.la(b,h,k)};a.s.jb=function(b,c,d,e,f,h,k,l,g,n){switch(c){case m.U:window.gbar.up.dpc(e,f);break;case m.N:window.gbar.up.spd(b,d,1,!0);break;case m.O:g=g||!1,l=l||\"\",h=h||0,k=k||a.s.K.P,n=n||0,a.s.Wa(e,h,k,f,l,g,n)}};a.s.hb=function(b,c,d,e,f){return c==m.N?0<d&&a.s.ia(b,c,e,f)>=d:!1};a.s.Ya=function(b,c,d,e,f,h,k,l,g,n){switch(c){case m.U:window.gbar.up.iic(e,f);break;case m.N:c=a.s.ia(b,c,d,e)+1;window.gbar.up.spd(b,d,c.toString(),!0);break;case m.O:g=g||!1,l=l||\"\",h=h||0,k=k||a.s.K.X,n=n||0,a.s.Za(e,h,k,1,l,g,n)}};a.s.ib=function(b,c,d,e,f,h){b=a.s.Z(c,b,a.s.W.Fa,a.s.Y.S,d,e,null,null);a.s.la(b,f,h)};var p={pb:\"a\",tb:\"l\",qb:\"c\",ya:\"d\",S:\"h\",V:\"i\",Db:\"n\",P:\"x\",Ab:\"ma\",Bb:\"mc\",Cb:\"mi\",ub:\"pa\",vb:\"pc\",xb:\"pi\",zb:\"pn\",yb:\"px\",wb:\"pd\",Eb:\"gpa\",Gb:\"gpi\",Hb:\"gpn\",Ib:\"gpx\",Fb:\"gpd\"};a.o={};a.o.H={Ga:\"hplogo\",Na:\"pmocntr2\"};a.o.K={Ma:\"0\",P:\"1\",wa:\"2\"};a.o.w=document.getElementById(a.o.H.Na);a.o.Ca=16;a.o.Ka=2;a.o.La=20;google.promos=google.promos||{};google.promos.toast=google.promos.toast||{};a.o.R=function(b){a.o.w&&(a.o.w.style.display=b?\"\":\"none\",a.o.w.parentNode&&(a.o.w.parentNode.style.position=b?\"relative\":\"\"))};a.o.va=function(b){try{if(a.o.w&&b&&b.es&&b.es.m){var c=window.gbar.rtl(document.body)?\"left\":\"right\";a.o.w.style[c]=b.es.m-a.o.Ca+a.o.Ka+\"px\";a.o.w.style.top=a.o.La+\"px\"}}catch(d){google.ml(d,!1,{cause:a.o.J+\"_PT\"})}};google.promos.toast.cl=function(){try{a.o.$==m.O&&a.s.ib(a.o.ja,a.o.L,a.o.K.wa,a.o.na,a.o.ka,a.o.ma),window.gbar.up.sl(a.o.L,a.o.J,p.S,a.o.ha(),1)}catch(b){google.ml(b,!1,{cause:a.o.J+\"_CL\"})}};google.promos.toast.cpc=function(){try{a.o.w&&(a.o.R(!1),a.s.jb(a.o.w,a.o.$,a.o.H.pa,a.o.ja,a.o.Ua,a.o.L,a.o.K.P,a.o.na,a.o.ka,a.o.ma),window.gbar.up.sl(a.o.L,a.o.J,p.ya,a.o.ha(),1))}catch(b){google.ml(b,!1,{cause:a.o.J+\"_CPC\"})}};a.o.ra=function(){try{if(a.o.w){var b=276,c=document.getElementById(a.o.H.Ga);c&&(b=Math.max(b,c.offsetWidth));var d=parseInt(a.o.w.style.right,10)||0;a.o.w.style.visibility=2*(a.o.w.offsetWidth+d)+b>document.body.clientWidth?\"hidden\":\"\"}}catch(e){google.ml(e,!1,{cause:a.o.J+\"_HOSW\"})}};a.o.Sa=function(){var b=[\"gpd\",\"spd\",\"aeh\",\"sl\"];if(!window.gbar||!window.gbar.up)return!1;for(var c=0,d;d=b[c];c++)if(!(d in window.gbar.up))return!1;return!0};a.o.$a=function(){return a.o.w.currentStyle&&\"absolute\"!=a.o.w.currentStyle.position};google.promos.toast.init=function(b,c,d,e,f,h,k,l,g,n,q,r){try{if(!a.o.Sa())google.ml(Error(\"apa\"),!1,{cause:a.o.J+\"_INIT\"});else if(a.o.w)if(e==m.O&&!l==!g)google.ml(Error(\"tku\"),!1,{cause:\"zwieback: \"+g+\", gaia: \"+l}),a.o.R(!1);else if(a.o.H.M=\"toast_count_\"+c+(q?\"_\"+q:\"\"),a.o.H.pa=\"toast_dp_\"+c+(r?\"_\"+r:\"\"),a.o.J=d,a.o.L=b,a.o.$=e,a.o.ja=c,a.o.Ua=f,a.o.na=l?l:g,a.o.ka=!!l,a.o.ma=k,a.s.ab(a.o.w,e,a.o.H.pa,c)||a.s.hb(a.o.w,e,h,a.o.H.M,c)||a.o.$a())a.o.R(!1);else{a.s.Ya(a.o.w,e,a.o.H.M,c,f,a.o.L,a.o.K.Ma,a.o.na,a.o.ka,a.o.ma);if(!n){try{window.gbar.up.aeh(window,\"resize\",a.o.ra)}catch(t){}window.lol=a.o.ra;window.gbar.elr&&a.o.va(window.gbar.elr());window.gbar.elc&&window.gbar.elc(a.o.va);a.o.R(!0)}window.gbar.up.sl(a.o.L,a.o.J,p.V,a.o.ha())}}catch(t){google.ml(t,!1,{cause:a.o.J+\"_INIT\"})}};a.o.ha=function(){var b=a.s.ia(a.o.w,a.o.$,a.o.H.M,a.o.ja);return\"ic=\"+b};})();</script> <script type=\"text/javascript\">(function(){var sourceWebappPromoID=144002;var sourceWebappGroupID=5;var payloadType=5;var cookieMaxAgeSec=2592000;var dismissalType=5;var impressionCap=25;var gaiaXsrfToken='';var zwbkXsrfToken='';var kansasDismissalEnabled=false;var sessionIndex=0;var invisible=false;window.gbar&&gbar.up&&gbar.up.r&&gbar.up.r(payloadType,function(show){if (show){google.promos.toast.init(sourceWebappPromoID,sourceWebappGroupID,payloadType,dismissalType,cookieMaxAgeSec,impressionCap,sessionIndex,gaiaXsrfToken,zwbkXsrfToken,invisible,'0612');}\n",
      "});})();</script> </div> </span><br clear=\"all\" id=\"lgpd\"><div id=\"lga\"><img alt=\"Google\" height=\"92\" src=\"/images/branding/googlelogo/1x/googlelogo_white_background_color_272x92dp.png\" style=\"padding:28px 0 14px\" width=\"272\" id=\"hplogo\" onload=\"window.lol&&lol()\"><br><br></div><form action=\"/search\" name=\"f\"><table cellpadding=\"0\" cellspacing=\"0\"><tr valign=\"top\"><td width=\"25%\">&nbsp;</td><td align=\"center\" nowrap=\"\"><input name=\"ie\" value=\"ISO-8859-1\" type=\"hidden\"><input value=\"en\" name=\"hl\" type=\"hidden\"><input name=\"source\" type=\"hidden\" value=\"hp\"><input name=\"biw\" type=\"hidden\"><input name=\"bih\" type=\"hidden\"><div class=\"ds\" style=\"height:32px;margin:4px 0\"><input style=\"color:#000;margin:0;padding:5px 8px 0 6px;vertical-align:top\" autocomplete=\"off\" class=\"lst\" value=\"\" title=\"Google Search\" maxlength=\"2048\" name=\"q\" size=\"57\"></div><br style=\"line-height:0\"><span class=\"ds\"><span class=\"lsbb\"><input class=\"lsb\" value=\"Google Search\" name=\"btnG\" type=\"submit\"></span></span><span class=\"ds\"><span class=\"lsbb\"><input class=\"lsb\" value=\"I'm Feeling Lucky\" name=\"btnI\" onclick=\"if(this.form.q.value)this.checked=1; else top.location='/doodles/'\" type=\"submit\"></span></span></td><td class=\"fl sblc\" align=\"left\" nowrap=\"\" width=\"25%\"><a href=\"/advanced_search?hl=en&amp;authuser=0\">Advanced search</a><a href=\"/language_tools?hl=en&amp;authuser=0\">Language tools</a></td></tr></table><input id=\"gbv\" name=\"gbv\" type=\"hidden\" value=\"1\"></form><div id=\"gac_scont\"></div><div style=\"font-size:83%;min-height:3.5em\"><br></div><span id=\"footer\"><div style=\"font-size:10pt\"><div style=\"margin:19px auto;text-align:center\" id=\"fll\"><a href=\"/intl/en/ads/\">Advertising&nbsp;Programs</a><a href=\"/services/\">Business Solutions</a><a href=\"https://plus.google.com/116899029375914044550\" rel=\"publisher\">+Google</a><a href=\"/intl/en/about.html\">About Google</a></div></div><p style=\"color:#767676;font-size:8pt\">&copy; 2015 - <a href=\"/intl/en/policies/privacy/\">Privacy</a> - <a href=\"/intl/en/policies/terms/\">Terms</a></p></span></center><script>(function(){window.google.cdo={height:0,width:0};(function(){var a=window.innerWidth,b=window.innerHeight;if(!a||!b)var c=window.document,d=\"CSS1Compat\"==c.compatMode?c.documentElement:c.body,a=d.clientWidth,b=d.clientHeight;a&&b&&(a!=google.cdo.width||b!=google.cdo.height)&&google.log(\"\",\"\",\"/client_204?&atyp=i&biw=\"+a+\"&bih=\"+b+\"&ei=\"+google.kEI);})();})();</script><div id=\"xjsd\"></div><div id=\"xjsi\" data-jiis=\"bp\"><script>(function(){function c(b){window.setTimeout(function(){var a=document.createElement(\"script\");a.src=b;document.getElementById(\"xjsd\").appendChild(a)},0)}google.dljp=function(b,a){google.xjsu=b;c(a)};google.dlj=c;})();(function(){window.google.xjsrm=[];})();if(google.y)google.y.first=[];if(!google.xjs){window._=window._||{};window._._DumpException=function(e){throw e};if(google.timers&&google.timers.load.t){google.timers.load.t.xjsls=new Date().getTime();}google.dljp('/xjs/_/js/k\\x3dxjs.hp.en_US.WXQsv5i327I.O/m\\x3dsb_he,d/rt\\x3dj/d\\x3d1/t\\x3dzcms/rs\\x3dACT90oErurbwJn1uWAFQ-aHaZnmqB15Y2Q','/xjs/_/js/k\\x3dxjs.hp.en_US.WXQsv5i327I.O/m\\x3dsb_he,d/rt\\x3dj/d\\x3d1/t\\x3dzcms/rs\\x3dACT90oErurbwJn1uWAFQ-aHaZnmqB15Y2Q');google.xjs=1;}google.pmc={\"sb_he\":{\"agen\":true,\"cgen\":true,\"client\":\"heirloom-hp\",\"dh\":true,\"ds\":\"\",\"fl\":true,\"host\":\"google.com\",\"jam\":0,\"jsonp\":true,\"msgs\":{\"cibl\":\"Clear Search\",\"dym\":\"Did you mean:\",\"lcky\":\"I\\u0026#39;m Feeling Lucky\",\"lml\":\"Learn more\",\"oskt\":\"Input tools\",\"psrc\":\"This search was removed from your \\u003Ca href=\\\"/history\\\"\\u003EWeb History\\u003C/a\\u003E\",\"psrl\":\"Remove\",\"sbit\":\"Search by image\",\"srch\":\"Google Search\"},\"ovr\":{},\"pq\":\"\",\"refoq\":true,\"refpd\":true,\"rfs\":[],\"scd\":10,\"sce\":5,\"stok\":\"Cfzr_4oK4SqlnmGXdmiqezQ2_j4\"},\"d\":{}};google.y.first.push(function(){if(google.med){google.med('init');google.initHistory();google.med('history');}});if(google.j&&google.j.en&&google.j.xi){window.setTimeout(google.j.xi,0);}\n",
      "</script></div></body></html>\n"
     ]
    }
   ],
   "source": [
    "import requests\n",
    "\n",
    "req = requests.get('http://google.com')\n",
    "\n",
    "print(req.text)"
   ]
  },
  {
   "cell_type": "code",
   "execution_count": 3,
   "metadata": {
    "collapsed": true,
    "slideshow": {
     "slide_type": "subslide"
    }
   },
   "outputs": [],
   "source": [
    "def connect(prot='http', **q):\n",
    "    \"\"\"\n",
    "    Makes a connection with CAPE.\n",
    "    Required that at least one query is made.\n",
    "\n",
    "    Parameters\n",
    "    ----------\n",
    "    :params prot: Either HTTP or HTTPS\n",
    "    :params    q: Query Dictionary\n",
    "\n",
    "    Returns\n",
    "    -------\n",
    "    :return: Request\n",
    "    :rtype : request.Request\n",
    "    \"\"\"\n",
    "    host   = 'cape.ucsd.edu'\n",
    "    inputs = 'Name', 'courseNumber', 'department'\n",
    "    prot   = prot.lower()\n",
    "    base   = '%s://%s/responses/Results.aspx' % (prot, host)\n",
    "\n",
    "    assert prot in ['http', 'https']\n",
    "    assert any(val in inputs for val in q)\n",
    "\n",
    "    headers = {           \"Host\": host,\n",
    "                        \"Accept\": ','.join([\n",
    "                                    \"text/html\",\n",
    "                                    \"application/xhtml+xml\",\n",
    "                                    \"application/xml;q=0.9,*/*;q=0.8\"]),\n",
    "               \"Accept-Language\": \"en-US,en;q=0.5\",\n",
    "                    \"User-Agent\":  ' '.join([\n",
    "                                    \"Mozilla/5.0]\",\n",
    "                                    \"(Macintosh; Intel Mac OS X 10_10_2)\",\n",
    "                                    \"AppleWebKit/600.3.18\",\n",
    "                                    \"(KHTML, like Gecko)\",\n",
    "                                    \"Version/8.0.3 Safari/600.3.18\"]),\n",
    "                 \"Cache-Control\": \"no-cache\"\n",
    "    }\n",
    "    queries = '&'.join(\n",
    "        [\n",
    "            '{key}={value}'.format(key=key, value=value)\n",
    "                for key, value in q.items()\n",
    "                if  key in inputs\n",
    "        ]\n",
    "    )\n",
    "    req = requests.get('?'.join([base, queries]), headers=headers)\n",
    "\n",
    "    if not req.ok:\n",
    "        print(\"Request didn't make it\", file=sys.stderr)\n",
    "        req.raise_for_status()\n",
    "\n",
    "    return req"
   ]
  },
  {
   "cell_type": "markdown",
   "metadata": {
    "slideshow": {
     "slide_type": "subslide"
    }
   },
   "source": [
    "# Running the Code\n",
    "\n",
    "----\n",
    "\n",
    "* __`**q`__ is a variable set of keyword arguments that it will apply to the URL\n",
    "\n",
    "```python\n",
    ">>> connect(department=CHEM)\n",
    "```\n",
    "\n",
    "Will make a request to http://cape.ucsd.edu/responses/Results.aspx?department=CHEM and return the result."
   ]
  },
  {
   "cell_type": "code",
   "execution_count": 4,
   "metadata": {
    "collapsed": false,
    "scrolled": false,
    "slideshow": {
     "slide_type": "subslide"
    }
   },
   "outputs": [
    {
     "name": "stdout",
     "output_type": "stream",
     "text": [
      "\r\n",
      "\r\n",
      "<!doctype html>\r\n",
      "<html xmlns=\"http://www.w3.org/1999/xhtml\" lang=\"en\">\r\n",
      "<head><meta http-equiv=\"Content-Type\" content=\"text/html;charset=utf-8\" /><meta content=\"initial-scale=1.0\" name=\"viewport\" />\r\n",
      "<script type=\"text/javascript\"\r\n",
      "    src=\"//uxt.ucsd.edu/common/jquery/1.4.4/jquery-1.4.4.min.js\"></script>\r\n",
      "<script type=\"text/javascript\"\r\n",
      "    src=\"//act.ucsd.edu/decorators/cms/3/decorate.js?siteName=cape\"></script>\r\n",
      "<title>\r\n",
      "\tHome > Responses > CAPE Results\r\n",
      "</title></head>\r\n",
      "<body>\r\n",
      "\t\t<!-- insert breadcrumb -->\r\n",
      "\t\t<div id=\"tdr_crumbs\">\r\n",
      "\t\t\t<div id=\"tdr_crumbs_content\">\r\n",
      "\t\t\t\t        <ul id=\"tdr_crumbs_list\">\r\n",
      "            <span id=\"ctl00_smp\"><span>\r\n",
      "                    <li><a id=\"ctl00_smp_ctl00_HyperLink3\" title=\"Home\" href=\"/\">Home</a></li>\r\n",
      "                </span><span></span><span>\r\n",
      "                    <li><a id=\"ctl00_smp_ctl02_HyperLink3\" title=\"Responses\" href=\"/responses\">Responses</a></li>\r\n",
      "                </span><span></span><span>\r\n",
      "                    <li><span id=\"ctl00_smp_ctl04_lblCurrentNode\">CAPE Results</span></li>\r\n",
      "                </span></span>\r\n",
      "        </ul>   \r\n",
      "        \r\n",
      "        \r\n",
      "\t\t\t</div>\r\n",
      "\t\t</div>\r\n",
      " \r\n",
      "        <!-- main content -->\r\n",
      "\t\t<div class=\"tdr_fonts\" id=\"tdr_content\">\r\n",
      "\t\t\t<div id=\"tdr_content_content\">\r\n",
      "                <!-- <div id=\"HeaderImage\"><h1><span id=\"ctl00_lblHeaderImageText\" class=\"HeaderImageText\">CAPE</span></h1></div> -->\r\n",
      " \t\t\r\n",
      "            <!-- BEGIN MAIN CONTENT -->\r\n",
      "            \r\n",
      "\r\n",
      "<style type=\"text/css\" rel=\"stylesheet\" media=\"all\">\r\n",
      "    #ctl00_ContentPlaceHolder1_gvCAPEs th {\r\n",
      "\t    text-align: center;\r\n",
      "    }\r\n",
      "\t\r\n",
      "\t#ctl00_ContentPlaceHolder1_gvCAPEs td,\r\n",
      "\t#ctl00_ContentPlaceHolder1_gvCAPEs th {\r\n",
      "\t\tborder:1px solid #fff;\r\n",
      "\t\tborder-width:0 1px 1px 0;\r\n",
      "\t\t}\r\n",
      "\t\t\r\n",
      "\t#ctl00_ContentPlaceHolder1_gvCAPEs thead th {\r\n",
      "\t\tbackground:#91c5d4;\r\n",
      "\t\t}\r\n",
      "\t\t\t\r\n",
      "\t\tthead th[colspan],\r\n",
      "\t\tthead th[rowspan] {\r\n",
      "\t\t\tbackground:#66a9bd;\r\n",
      "\t\t\t}\r\n",
      "\t\t\r\n",
      "\t#ctl00_ContentPlaceHolder1_gvCAPEs tbody th {\r\n",
      "\t\ttext-align:left;\r\n",
      "\t\tbackground:#D7E1C5;\r\n",
      "\t\t}\r\n",
      "\t\r\n",
      "\ttr.even td {\r\n",
      "\t\tbackground:#EEFFFF;\r\n",
      "\t}\r\n",
      "\t\r\n",
      "\ttbody td{\r\n",
      "\t\tbackground:#d5eaf0;\r\n",
      "\t\t}\r\n",
      "\t\t\t\r\n",
      "\ttbody tr.hover td { \r\n",
      "\t\tbackground:#bcd9e1;\r\n",
      "\t\t}\r\n",
      "</style>\r\n",
      "<script type=\"text/javascript\">\r\n",
      "    (function($) {\r\n",
      "        $(document).ready(function() {\r\n",
      "        $(\"#ctl00_ContentPlaceHolder1_gvCAPEs tr:odd\").addClass(\"odd\");\r\n",
      "        $(\"#ctl00_ContentPlaceHolder1_gvCAPEs tr:even\").addClass(\"even\");\r\n",
      "\r\n",
      "\r\n",
      "        $('#ctl00_ContentPlaceHolder1_gvCAPEs tr').hover(function() {\r\n",
      "                $(this).addClass('hover');\r\n",
      "            }, function() {\r\n",
      "                $(this).removeClass('hover');\r\n",
      "            });\r\n",
      "\r\n",
      "        })\r\n",
      "    })(jQuery);\r\n",
      "</script>\r\n",
      "\r\n",
      "<form name=\"aspnetForm\" method=\"post\" action=\"Results.aspx?department=CHEM\" id=\"aspnetForm\">\r\n",
      "<div>\r\n",
      "<input type=\"hidden\" name=\"__EVENTTARGET\" id=\"__EVENTTARGET\" value=\"\" />\r\n",
      "<input type=\"hidden\" name=\"__EVENTARGUMENT\" id=\"__EVENTARGUMENT\" value=\"\" />\r\n",
      "<input type=\"hidden\" name=\"__VIEWSTATE\" id=\"__VIEWSTATE\" value=\"/wEPDwUKMTM3NTUwOTE3OA9kFgJmD2QWAgIJD2QWAgIBD2QWAgIVD2QWAmYPZBYCAgUPPCsADQBkGAEFIWN0bDAwJENvbnRlbnRQbGFjZUhvbGRlcjEkZ3ZDQVBFcw9nZH08UMboMMgjU3uYMrwFBLe56tZZ\" />\r\n",
      "</div>\r\n",
      "\r\n",
      "<script type=\"text/javascript\">\r\n",
      "//<![CDATA[\r\n",
      "var theForm = document.forms['aspnetForm'];\r\n",
      "if (!theForm) {\r\n",
      "    theForm = document.aspnetForm;\r\n",
      "}\r\n",
      "function __doPostBack(eventTarget, eventArgument) {\r\n",
      "    if (!theForm.onsubmit || (theForm.onsubmit() != false)) {\r\n",
      "        theForm.__EVENTTARGET.value = eventTarget;\r\n",
      "        theForm.__EVENTARGUMENT.value = eventArgument;\r\n",
      "        theForm.submit();\r\n",
      "    }\r\n",
      "}\r\n",
      "//]]>\r\n",
      "</script>\r\n",
      "\r\n",
      "\r\n",
      "<script src=\"/WebResource.axd?d=P5Ole1VmRRAWFB7t7RlzIchXMsb2EOn7LvjLRNO9wFPj7kpH0jqkZQugvoAMeVfqfAdE8uyX7Ia4S8GLBWo8-mmYXZk1&amp;t=635588330575142005\" type=\"text/javascript\"></script>\r\n",
      "\r\n",
      "\r\n",
      "<script src=\"/ScriptResource.axd?d=Hsr210UXurK1s6DnpGGwKsOTdXZpIDNBjWnIbOe_wYoQCdoQbq2f_0p6LL7tsjAWRxpaE5X4NhfzsIcZHflnbWaMNCqMu_PXOz8YuClso4EAQMIIOQf6CD_vGaARbMsZFr7bTKiwC9F3ljNjUVSSAxb8uIY0JdzPoK6osgzZ9QRoiRXp0&amp;t=2e2045e2\" type=\"text/javascript\"></script>\r\n",
      "<script type=\"text/javascript\">\r\n",
      "//<![CDATA[\r\n",
      "if (typeof(Sys) === 'undefined') throw new Error('ASP.NET Ajax client-side framework failed to load.');\r\n",
      "//]]>\r\n",
      "</script>\r\n",
      "\r\n",
      "<script src=\"/ScriptResource.axd?d=WNwJGmJE8INsDZ3hQmVfpebZx_Pocv35NZ4Kol5iFZSLiIRfoOjEZAv03u7UFxX9PtuH4oNCafKiqdv2bcoK89AScShqu11sU2qSzkgGkcBdYpeHQa_8rOtNzlqwvozNMJRu03g9NF3nZbE8lvvLAG-GSt8M07r-a-OuU0GV09xfHmhxyWwTlBfe5tFB3sWVDPFZhA2&amp;t=2e2045e2\" type=\"text/javascript\"></script>\r\n",
      "<script src=\"/ScriptResource.axd?d=Kr75lo_qjnN3FXi5vX6yeG56mdGfbbBOwyBRKiPhkf4KBYTuI8tHj4JVOSG7YqyWylAnn0ko5b9cikupLfTfqDGdPk99DaTKiU_rv_XQfFXDW6GSiSVQ1a8lH9mFJGGy9LOx1raaUFZo-aQid4OwZExB6ko1&amp;t=68eea9b1\" type=\"text/javascript\"></script>\r\n",
      "<script src=\"/ScriptResource.axd?d=knwzmcJ1wkKqghw1SKuOVdoqZzl6lz1htcBPU2gk6B2M5-6kleTZxqe_785mNa8L42k1utRwNLjxHDdeC8nhLvjy2BlQlCzkJiir2CukF9vpHgZapjHSIA02AJDADcCMLOBCnaBvaSdkzNtradxjaOOyAy41&amp;t=68eea9b1\" type=\"text/javascript\"></script>\r\n",
      "<script src=\"/ScriptResource.axd?d=5r1yEIVwvFiQQuss57CMbiv5MZRCBsupzi4Vz5vpqipk-CBFQOFs54gACj9zGE6e1I2myEkrIhqWdHwuLGD92jbN76202eOsN0sK58VUpqnnAoANbLbu11zLTw-NOsF44Ev2wDInK-WWomey5wVBx3iZxKI1&amp;t=68eea9b1\" type=\"text/javascript\"></script>\r\n",
      "<script src=\"/ScriptResource.axd?d=OEgm5rY1-JdHtus_-a2uMDd_-oI0NTTp1xVCm93UDcE5nmZ2Y5YVtMcQ38vG0yhwAb_B_8hrbhST4NnfGA0QFBd2SCQTDXaB86T46dxNeaUyKmXHW-HHesokgFO-LpQvljfwyDjT9JCWzEWDJy_VZoLa6PecXyX7elolGiaEbJ4He92m0&amp;t=68eea9b1\" type=\"text/javascript\"></script>\r\n",
      "<script src=\"/ScriptResource.axd?d=md5cz-Upg_aPRfFMkLCiwtvDjU05X4J2wJ83ko7l71Yn1x1bq7hpIyZCwK2QV_2Ev_s-xraAe3h2IG6c00T8qT3tyESJmvIx0HLUD8C2Z0sDoQMnMirigeCiy-sBLOZ4R0UPv_dKGgHlSo3o0ikycMsUNF7Aw37WEAIR3OEtYmx3k67F0&amp;t=68eea9b1\" type=\"text/javascript\"></script>\r\n",
      "<script src=\"/ScriptResource.axd?d=FHIj6Il9gHgNj7cC6Y2gyUfgBHVwi_3mW-2AbsxZjK3pN9pDo8nm2RsUaqWJgT_hdqOhEBjOecV18TjACdplG9cM2io4xsLpNiNSJEdAYjxHDLAdVZTZFhRTQIreHcbDU6KgL6DnWYP-C1E_1v6S5uFZpxYrA5qg8cUblcPTQvC3wcnj0&amp;t=68eea9b1\" type=\"text/javascript\"></script>\r\n",
      "<script src=\"/ScriptResource.axd?d=kas2APMawxak3TGfikb4vMNOHEv3UojdhoDghEcupkTrfOChAkWt9IZ5MblKrg1O2hh5E0pfGgOeioQplXMaY0EllfcekjEK8RtrUcipA_O-VHoJgiR5IJO3ibP_2DMERz3DmHiJU0uLrhdxzLQL1SH_sagYtONzIB7Yb_KRtzEp3pP10&amp;t=68eea9b1\" type=\"text/javascript\"></script>\r\n",
      "<script src=\"/ScriptResource.axd?d=d0qUtvKp_lRpVJ5_iZHc8FIgdBLyb7fK_uHCf8FyEYLzn2dUMj3owJ6FkAy_R0DaAHoMPIi39avoQPRlMKcrkycGdG5WvxYpbKUn-3DqOtYofIlBX-9yZdS1Zfg0gyXTW9tbyOHGp8WdIHEwUe8OrSmZFkV56mPa0yHrx3JjnScBB25y1RF9d-WL9YFuLasNBroTrw2&amp;t=68eea9b1\" type=\"text/javascript\"></script>\r\n",
      "<div>\r\n",
      "\r\n",
      "\t<input type=\"hidden\" name=\"__VIEWSTATEGENERATOR\" id=\"__VIEWSTATEGENERATOR\" value=\"9F4DB2D8\" />\r\n",
      "</div>\r\n",
      "<script type=\"text/javascript\">\r\n",
      "//<![CDATA[\r\n",
      "Sys.WebForms.PageRequestManager._initialize('ctl00$ContentPlaceHolder1$scriptManager1', document.getElementById('aspnetForm'));\r\n",
      "Sys.WebForms.PageRequestManager.getInstance()._updateControls(['tctl00$ContentPlaceHolder1$UpdatePanel1'], [], [], 90);\r\n",
      "//]]>\r\n",
      "</script>\r\n",
      " \r\n",
      "\r\n",
      "<div class=\"cols_wrapper\">\r\n",
      "    <div class=\"col_1_of_2 col\">  \r\n",
      "        <h1 style=\"clear:both;\">CAPE Results</h1>\r\n",
      "                \r\n",
      "        <span id=\"ctl00_ContentPlaceHolder1_lblErrorMessage\" class=\"errormessage\"></span>  \r\n",
      "  \r\n",
      "        <div class=\"field\">\r\n",
      "\t        <div class=\"label\">\r\n",
      "\t\t        <label for=\"Name\">Name: (Last Name, First Name)</label>\r\n",
      "\t        </div>\r\n",
      "\t        <div class=\"input\">\r\n",
      "                \r\n",
      "\t            <input name=\"ctl00$ContentPlaceHolder1$txtInstructorName\" type=\"text\" maxlength=\"100\" id=\"ctl00_ContentPlaceHolder1_txtInstructorName\" style=\"width:300px;\" />\r\n",
      "\t        </div>\r\n",
      "        </div>\r\n",
      "        <div class=\"field\">\r\n",
      "\t        <div class=\"label\">\r\n",
      "\t\t        <label for=\"courseNumber\">Course Number:<br />(ex. BIMM xxx)</label>\r\n",
      "\t        </div>\r\n",
      "\t        <div class=\"input\">\r\n",
      "                \r\n",
      "                \r\n",
      "                <input name=\"ctl00$ContentPlaceHolder1$txtCourse\" type=\"text\" maxlength=\"10\" id=\"ctl00_ContentPlaceHolder1_txtCourse\" style=\"width:100px;\" />\r\n",
      "\t        </div>\r\n",
      "        </div>\r\n",
      "        <div class=\"field\">\r\n",
      "\t        <div class=\"label\">\r\n",
      "\t\t        <label for=\"department\">Department</label>\r\n",
      "\t        </div>\r\n",
      "\t        <div class=\"input\">\r\n",
      "\t            <select name=\"ctl00$ContentPlaceHolder1$ddlDepartments\" id=\"ctl00_ContentPlaceHolder1_ddlDepartments\">\r\n",
      "\t<option value=\"\">Select a Department</option>\r\n",
      "\t<option value=\"ANTH\">ANTH - Anthropology</option>\r\n",
      "\t<option value=\"BENG\">BENG - Bioengineering</option>\r\n",
      "\t<option value=\"BIOL\">BIOL - Biological Sciences</option>\r\n",
      "\t<option value=\"CAT\">CAT  - Sixth College</option>\r\n",
      "\t<option value=\"CENG\">CENG - Chemical Engineering</option>\r\n",
      "\t<option value=\"CGS \">CGS - Critical Gender Studies</option>\r\n",
      "\t<option value=\"CHEM\">CHEM - Chemistry</option>\r\n",
      "\t<option value=\"CHIN\">CHIN - Chinese Studies</option>\r\n",
      "\t<option value=\"COGS\">COGS - Cognitive Science</option>\r\n",
      "\t<option value=\"COMM\">COMM - Communication</option>\r\n",
      "\t<option value=\"CONT\">CONT - Contemporary Issues</option>\r\n",
      "\t<option value=\"CSE\">CSE - Computer Science &amp; Engineering</option>\r\n",
      "\t<option value=\"DOC\">DOC - Dimensions of Culture</option>\r\n",
      "\t<option value=\"ECE\">ECE - Electrical &amp; Computer Eng.</option>\r\n",
      "\t<option value=\"ECON\">ECON - Economics</option>\r\n",
      "\t<option value=\"EDS\">EDS - Education Studies</option>\r\n",
      "\t<option value=\"ENVR\">ENVR - Environmental Studies</option>\r\n",
      "\t<option value=\"ERC \">ERC - ERC</option>\r\n",
      "\t<option value=\"ESYS\">ESYS - Environmental Systems</option>\r\n",
      "\t<option value=\"ETHN\">ETHN - Ethnic Studies</option>\r\n",
      "\t<option value=\"FILM\">FILM - Film</option>\r\n",
      "\t<option value=\"FPMU\">FPMU - Family and Preventive Medicine</option>\r\n",
      "\t<option value=\"HDP\">HDP - Human Development Program</option>\r\n",
      "\t<option value=\"HIST\">HIST - History</option>\r\n",
      "\t<option value=\"HMNR\">HMNR - </option>\r\n",
      "\t<option value=\"HUM \">HUM - Humanities</option>\r\n",
      "\t<option value=\"ICAM\">ICAM - Inter. Computing and the Arts</option>\r\n",
      "\t<option value=\"INTL\">INTL - International Studies</option>\r\n",
      "\t<option value=\"JAPN\">JAPN - Japanese Studies</option>\r\n",
      "\t<option value=\"JUDA\">JUDA - Judaic Studies</option>\r\n",
      "\t<option value=\"LATI\">LATI - Latin American Studies</option>\r\n",
      "\t<option value=\"LAWS\">LAWS - Law &amp; Society</option>\r\n",
      "\t<option value=\"LING\">LING - Linguistics</option>\r\n",
      "\t<option value=\"LIT\">LIT - Literature</option>\r\n",
      "\t<option value=\"MAE\">MAE - Mechanical &amp; Aerospace Eng.</option>\r\n",
      "\t<option value=\"MATH\">MATH - Mathematics</option>\r\n",
      "\t<option value=\"MMW\">MMW - Making of the Modern World</option>\r\n",
      "\t<option value=\"MUIR\">MUIR - Muir College</option>\r\n",
      "\t<option value=\"MUS\">MUS  - Music</option>\r\n",
      "\t<option value=\"NENG\">NENG - NanoEngineering</option>\r\n",
      "\t<option value=\"PHIL\">PHIL - Philosophy</option>\r\n",
      "\t<option value=\"PHYS\">PHYS - Physics</option>\r\n",
      "\t<option value=\"POLI\">POLI - Political Science</option>\r\n",
      "\t<option value=\"PSYC\">PSYC - Psychology</option>\r\n",
      "\t<option value=\"RELI\">RELI - The Study of Religion</option>\r\n",
      "\t<option value=\"REV\">REV - Revelle College</option>\r\n",
      "\t<option value=\"RSM\">RSM  - Rady School of Management</option>\r\n",
      "\t<option value=\"SDCC\">SDCC - Entry Level Writing</option>\r\n",
      "\t<option value=\"SE\">SE  - Structural Engineering</option>\r\n",
      "\t<option value=\"SIO\">SIO - SIO</option>\r\n",
      "\t<option value=\"SOC\">SOC - Sociology</option>\r\n",
      "\t<option value=\"SOE\">SOE - Jacobs School of Engineering</option>\r\n",
      "\t<option value=\"STPA\">STPA - Science, Tech, &amp;Public Affairs</option>\r\n",
      "\t<option value=\"SXTH\">SXTH - Sixth College</option>\r\n",
      "\t<option value=\"THEA\">THEA - Theatre &amp; Dance</option>\r\n",
      "\t<option value=\"TMC\">TMC - Thurgood Marshall College</option>\r\n",
      "\t<option value=\"TWS\">TWS - Third World Studies</option>\r\n",
      "\t<option value=\"USP\">USP - Urban Studies and Planning</option>\r\n",
      "\t<option value=\"VIS\">VIS - Visual Arts</option>\r\n",
      "\t<option value=\"WARR\">WARR - Warren College</option>\r\n",
      "\t<option value=\"WCWP\">WCWP - Warren College Writing Program</option>\r\n",
      "\r\n",
      "</select>\r\n",
      "\t        </div>\r\n",
      "        </div>\r\n",
      "\r\n",
      "        <div id=\"ctl00_ContentPlaceHolder1_UpdateProgress1\" style=\"display:none;\">\r\n",
      "\t\r\n",
      "            <div class=\"field\">\r\n",
      "\t            <div class=\"input\">\r\n",
      "                <img src=\"../_images/cape_loading.gif\" height=\"25\" width=\"25\" alt=\"Loading ...\">\r\n",
      "                </div>\r\n",
      "            </div>\r\n",
      "            \r\n",
      "</div>\r\n",
      "    </div>\r\n",
      "    <div class=\"col_2_of_2 col\">\r\n",
      "        <div style=\"width:175px; font-size:90%; font-weight:bold; text-align:center;margin-left: auto; margin-right: auto;\">\r\n",
      "        <img title=\"SUNNY G!\" src=\"../_images/cape.png\" alt=\"SUNNY G!\" style=\"width:175px;border-width:0px;padding-bottom:0.5em;\" />\r\n",
      "        SUNNY G!\r\n",
      "        </div>\r\n",
      "    </div>\r\n",
      "</div>\r\n",
      "    \r\n",
      "    <div id=\"ctl00_ContentPlaceHolder1_UpdatePanel1\">\r\n",
      "\t\r\n",
      "        <div class=\"field\">\r\n",
      "\t        <div class=\"input\">\r\n",
      "\t            <input type=\"submit\" name=\"ctl00$ContentPlaceHolder1$btnSubmit\" value=\"Search\" id=\"ctl00_ContentPlaceHolder1_btnSubmit\" class=\"button primary\" />\r\n",
      "\t            <input type=\"reset\" class=\"button secondary\" title=\"Reset\" />\r\n",
      "\t        </div>\r\n",
      "        </div>\r\n",
      "        \r\n",
      "            \r\n",
      "\t\t\t\r\n",
      "    <div>\r\n",
      "\r\n",
      "\t</div>\r\n",
      "        \r\n",
      "</div>\r\n",
      "    \r\n",
      "\t<p></p>\r\n",
      "\t<p>Questions? Contact CAPE at <a href=\"mailto:cape@ucsd.edu?subject=Web Stats Question\">cape@ucsd.edu</a></p>\r\n",
      "    \r\n",
      "\r\n",
      "\r\n",
      "\r\n",
      "<script type=\"text/javascript\">\r\n",
      "//<![CDATA[\r\n",
      "Sys.Application.initialize();\r\n",
      "Sys.Application.add_init(function() {\r\n",
      "    $create(AjaxControlToolkit.AutoCompleteBehavior, {\"completionInterval\":1,\"completionSetCount\":5,\"delimiterCharacters\":\"\",\"enableCaching\":false,\"id\":\"ctl00_ContentPlaceHolder1_AutoCompleteExtender1\",\"serviceMethod\":\"GetInstructorNames\",\"servicePath\":\"/responses/Results.aspx\"}, null, null, $get(\"ctl00_ContentPlaceHolder1_txtInstructorName\"));\r\n",
      "});\r\n",
      "Sys.Application.add_init(function() {\r\n",
      "    $create(AjaxControlToolkit.AutoCompleteBehavior, {\"completionInterval\":1,\"completionSetCount\":5,\"delimiterCharacters\":\"\",\"enableCaching\":false,\"id\":\"ctl00_ContentPlaceHolder1_AutoCompleteExtender2\",\"serviceMethod\":\"GetCourses\",\"servicePath\":\"/responses/Results.aspx\"}, null, null, $get(\"ctl00_ContentPlaceHolder1_txtCourse\"));\r\n",
      "});\r\n",
      "Sys.Application.add_init(function() {\r\n",
      "    $create(AjaxControlToolkit.FilteredTextBoxBehavior, {\"FilterType\":15,\"ValidChars\":\" \",\"id\":\"ctl00_ContentPlaceHolder1_FilteredTextBoxExtender1\"}, null, null, $get(\"ctl00_ContentPlaceHolder1_txtCourse\"));\r\n",
      "});\r\n",
      "Sys.Application.add_init(function() {\r\n",
      "    $create(Sys.UI._UpdateProgress, {\"associatedUpdatePanelId\":\"ctl00_ContentPlaceHolder1_UpdatePanel1\",\"displayAfter\":500,\"dynamicLayout\":true}, null, null, $get(\"ctl00_ContentPlaceHolder1_UpdateProgress1\"));\r\n",
      "});\r\n",
      "//]]>\r\n",
      "</script>\r\n",
      "</form>\r\n",
      "  \r\n",
      "            <!-- END MAIN CONTENT -->\r\n",
      "\r\n",
      "            \r\n",
      "<br/>\r\n",
      "\r\n",
      "\r\n",
      "<img src=\"https://a4.ucsd.edu/tritON/imagebug\" alt=\"\" />\r\n",
      "\t\t\t</div>\r\n",
      "\t\t</div>\r\n",
      "\t\t\r\n",
      "        <!-- use this image bug to keep single sign-on sessions alive -->\r\n",
      "        <img src=\"https://a4.ucsd.edu/tritON/imagebug\" alt=\"\" />\r\n",
      "\t</body>\r\n",
      "</html>\n"
     ]
    }
   ],
   "source": [
    "# URL: http://cape.com/responses/Results.aspx?\n",
    "\n",
    "req = connect(department=\"CHEM\")\n",
    "\n",
    "print(req.text)"
   ]
  },
  {
   "cell_type": "markdown",
   "metadata": {
    "slideshow": {
     "slide_type": "subslide"
    }
   },
   "source": [
    "# Cleaning up the result using BeautifulSoup4\n",
    "\n",
    "BeautifulSoup is a HTML Parser\n",
    "\n",
    "Let's grab all the class listings within\n",
    "\n",
    "```html\n",
    "\t<option value=\"\">Select a Department</option>\n",
    "\t<option value=\"ANTH\">ANTH - Anthropology</option>\n",
    "\t<option value=\"BENG\">BENG - Bioengineering</option>\n",
    "\t<option value=\"BIOL\">BIOL - Biological Sciences</option>\n",
    "\t<option value=\"CAT\">CAT  - Sixth College</option>\n",
    "\t<option value=\"CENG\">CENG - Chemical Engineering</option>\n",
    "    ...\n",
    "    ...\n",
    "```"
   ]
  },
  {
   "cell_type": "code",
   "execution_count": 5,
   "metadata": {
    "collapsed": false,
    "slideshow": {
     "slide_type": "subslide"
    }
   },
   "outputs": [
    {
     "data": {
      "text/plain": [
       "[<option value=\"\">Select a Department</option>,\n",
       " <option value=\"ANTH\">ANTH - Anthropology</option>,\n",
       " <option value=\"BENG\">BENG - Bioengineering</option>,\n",
       " <option value=\"BIOL\">BIOL - Biological Sciences</option>,\n",
       " <option value=\"CAT\">CAT  - Sixth College</option>,\n",
       " <option value=\"CENG\">CENG - Chemical Engineering</option>,\n",
       " <option value=\"CGS \">CGS - Critical Gender Studies</option>,\n",
       " <option value=\"CHEM\">CHEM - Chemistry</option>,\n",
       " <option value=\"CHIN\">CHIN - Chinese Studies</option>,\n",
       " <option value=\"COGS\">COGS - Cognitive Science</option>,\n",
       " <option value=\"COMM\">COMM - Communication</option>,\n",
       " <option value=\"CONT\">CONT - Contemporary Issues</option>,\n",
       " <option value=\"CSE\">CSE - Computer Science &amp; Engineering</option>,\n",
       " <option value=\"DOC\">DOC - Dimensions of Culture</option>,\n",
       " <option value=\"ECE\">ECE - Electrical &amp; Computer Eng.</option>,\n",
       " <option value=\"ECON\">ECON - Economics</option>,\n",
       " <option value=\"EDS\">EDS - Education Studies</option>,\n",
       " <option value=\"ENVR\">ENVR - Environmental Studies</option>,\n",
       " <option value=\"ERC \">ERC - ERC</option>,\n",
       " <option value=\"ESYS\">ESYS - Environmental Systems</option>,\n",
       " <option value=\"ETHN\">ETHN - Ethnic Studies</option>,\n",
       " <option value=\"FILM\">FILM - Film</option>,\n",
       " <option value=\"FPMU\">FPMU - Family and Preventive Medicine</option>,\n",
       " <option value=\"HDP\">HDP - Human Development Program</option>,\n",
       " <option value=\"HIST\">HIST - History</option>,\n",
       " <option value=\"HMNR\">HMNR - </option>,\n",
       " <option value=\"HUM \">HUM - Humanities</option>,\n",
       " <option value=\"ICAM\">ICAM - Inter. Computing and the Arts</option>,\n",
       " <option value=\"INTL\">INTL - International Studies</option>,\n",
       " <option value=\"JAPN\">JAPN - Japanese Studies</option>,\n",
       " <option value=\"JUDA\">JUDA - Judaic Studies</option>,\n",
       " <option value=\"LATI\">LATI - Latin American Studies</option>,\n",
       " <option value=\"LAWS\">LAWS - Law &amp; Society</option>,\n",
       " <option value=\"LING\">LING - Linguistics</option>,\n",
       " <option value=\"LIT\">LIT - Literature</option>,\n",
       " <option value=\"MAE\">MAE - Mechanical &amp; Aerospace Eng.</option>,\n",
       " <option value=\"MATH\">MATH - Mathematics</option>,\n",
       " <option value=\"MMW\">MMW - Making of the Modern World</option>,\n",
       " <option value=\"MUIR\">MUIR - Muir College</option>,\n",
       " <option value=\"MUS\">MUS  - Music</option>,\n",
       " <option value=\"NENG\">NENG - NanoEngineering</option>,\n",
       " <option value=\"PHIL\">PHIL - Philosophy</option>,\n",
       " <option value=\"PHYS\">PHYS - Physics</option>,\n",
       " <option value=\"POLI\">POLI - Political Science</option>,\n",
       " <option value=\"PSYC\">PSYC - Psychology</option>,\n",
       " <option value=\"RELI\">RELI - The Study of Religion</option>,\n",
       " <option value=\"REV\">REV - Revelle College</option>,\n",
       " <option value=\"RSM\">RSM  - Rady School of Management</option>,\n",
       " <option value=\"SDCC\">SDCC - Entry Level Writing</option>,\n",
       " <option value=\"SE\">SE  - Structural Engineering</option>,\n",
       " <option value=\"SIO\">SIO - SIO</option>,\n",
       " <option value=\"SOC\">SOC - Sociology</option>,\n",
       " <option value=\"SOE\">SOE - Jacobs School of Engineering</option>,\n",
       " <option value=\"STPA\">STPA - Science, Tech, &amp;Public Affairs</option>,\n",
       " <option value=\"SXTH\">SXTH - Sixth College</option>,\n",
       " <option value=\"THEA\">THEA - Theatre &amp; Dance</option>,\n",
       " <option value=\"TMC\">TMC - Thurgood Marshall College</option>,\n",
       " <option value=\"TWS\">TWS - Third World Studies</option>,\n",
       " <option value=\"USP\">USP - Urban Studies and Planning</option>,\n",
       " <option value=\"VIS\">VIS - Visual Arts</option>,\n",
       " <option value=\"WARR\">WARR - Warren College</option>,\n",
       " <option value=\"WCWP\">WCWP - Warren College Writing Program</option>]"
      ]
     },
     "execution_count": 5,
     "metadata": {},
     "output_type": "execute_result"
    }
   ],
   "source": [
    "from bs4 import BeautifulSoup\n",
    "\n",
    "# Grab the HTML\n",
    "req = connect(department=\"CHEM\")\n",
    "\n",
    "# Shove it into BeautifulSoup\n",
    "soup = BeautifulSoup(req.text, 'lxml')\n",
    "\n",
    "# Find all Option Tags\n",
    "options = soup.find_all('option')\n",
    "\n",
    "# Returns a list of options\n",
    "options"
   ]
  },
  {
   "cell_type": "code",
   "execution_count": 6,
   "metadata": {
    "collapsed": false,
    "slideshow": {
     "slide_type": "subslide"
    }
   },
   "outputs": [
    {
     "name": "stdout",
     "output_type": "stream",
     "text": [
      "\n",
      "ANTH\n",
      "BENG\n",
      "BIOL\n",
      "CAT\n",
      "CENG\n",
      "CGS \n",
      "CHEM\n",
      "CHIN\n",
      "COGS\n",
      "COMM\n",
      "CONT\n",
      "CSE\n",
      "DOC\n",
      "ECE\n",
      "ECON\n",
      "EDS\n",
      "ENVR\n",
      "ERC \n",
      "ESYS\n",
      "ETHN\n",
      "FILM\n",
      "FPMU\n",
      "HDP\n",
      "HIST\n",
      "HMNR\n",
      "HUM \n",
      "ICAM\n",
      "INTL\n",
      "JAPN\n",
      "JUDA\n",
      "LATI\n",
      "LAWS\n",
      "LING\n",
      "LIT\n",
      "MAE\n",
      "MATH\n",
      "MMW\n",
      "MUIR\n",
      "MUS\n",
      "NENG\n",
      "PHIL\n",
      "PHYS\n",
      "POLI\n",
      "PSYC\n",
      "RELI\n",
      "REV\n",
      "RSM\n",
      "SDCC\n",
      "SE\n",
      "SIO\n",
      "SOC\n",
      "SOE\n",
      "STPA\n",
      "SXTH\n",
      "THEA\n",
      "TMC\n",
      "TWS\n",
      "USP\n",
      "VIS\n",
      "WARR\n",
      "WCWP\n"
     ]
    }
   ],
   "source": [
    "# Grab the `value= ` Attribute\n",
    "\n",
    "for option in options:\n",
    "    print(option.attrs['value'])"
   ]
  },
  {
   "cell_type": "markdown",
   "metadata": {
    "slideshow": {
     "slide_type": "subslide"
    }
   },
   "source": [
    "# Now Grab all the Departments"
   ]
  },
  {
   "cell_type": "markdown",
   "metadata": {
    "slideshow": {
     "slide_type": "subslide"
    }
   },
   "source": [
    "# Kind of....."
   ]
  },
  {
   "cell_type": "code",
   "execution_count": 7,
   "metadata": {
    "collapsed": true,
    "slideshow": {
     "slide_type": "subslide"
    }
   },
   "outputs": [],
   "source": [
    "def departments():\n",
    "    \"\"\"\n",
    "    Gets a mapping of all the deparments by key.\n",
    "    \"\"\"\n",
    "    logging.info('Grabbing a list of Departments')\n",
    "    prototype = connect(\"http\", department=\"CHEM\")\n",
    "    soup      = BeautifulSoup(prototype.content, 'lxml')\n",
    "    options   = list(reversed(soup.find_all('option')))\n",
    "\n",
    "    options.pop()\n",
    "\n",
    "    # Initial Course Mapping\n",
    "    mapping = dict(option.text.split(' - ') for option in options)\n",
    "\n",
    "    # Cleanup\n",
    "    for dept in ['BIOL', 'SOC', 'HIST', 'LING', 'LIT', 'NENG', 'RSM ', 'SOE', 'THEA']:\n",
    "        mapping.pop(dept)\n",
    "\n",
    "    # Actual Departments\n",
    "    mapping.update({\n",
    "        'BIBC': 'Biology Biochemistry',\n",
    "        'BILD': 'Biology Lower Division',\n",
    "        'BIMM': 'Biology Molecular, Microbiology',\n",
    "        'BIPN': 'Biology Physiology and Neuroscience',\n",
    "        'SOCA': 'Sociology Theory & Methods',\n",
    "        'SOCB': 'Sociology Cult, Lang, & Soc Interact',\n",
    "        'SOCC': 'Sociology Organiz & Institutions',\n",
    "        'SOCD': 'Sociology Comparative & Historical',\n",
    "        'SOCE': 'Sociology Ind Research & Honors Prog',\n",
    "        'SOCI': 'Sociology',\n",
    "        'SOCL': 'Sociology Lower Division',\n",
    "        'HILD': 'History Lower Division',\n",
    "        'HIAF': 'History of Africa',\n",
    "        'HIEA': 'History of East Asia',\n",
    "        'HIEU': 'History of Europe',\n",
    "        'HINE': 'History of Near East',\n",
    "        'HILA': 'History of Latin America',\n",
    "        'HISC': 'History of Science',\n",
    "        'HIUS': 'History of the United States',\n",
    "        'HITO': 'History Topics',\n",
    "        'LTAF': 'Literature African',\n",
    "        'LTAM': 'Literature of the Americas',\n",
    "        'LTCH': 'Literature Chinese',\n",
    "        'LTCS': 'Literature Cultural Studies',\n",
    "        'LTEA': 'Literature East Asian',\n",
    "        'LTEU': 'Literature European/Eurasian',\n",
    "        'LTFR': 'Literature French',\n",
    "        'LTGM': 'Literature General',\n",
    "        'LTGK': 'Literature Greek',\n",
    "        'LTGM': 'Literature German',\n",
    "        'LTIT': 'Literature Italian',\n",
    "        'LTKO': 'Literature Korean',\n",
    "        'LTLA': 'Literature Latin',\n",
    "        'LTRU': 'Literature Russian',\n",
    "        'LTSP': 'Literature Spanish',\n",
    "        'LTTH': 'Literature Theory',\n",
    "        'LTWL': 'Literature of the World',\n",
    "        'LTWR': 'Literature Writing',\n",
    "        'RELI': 'Literature Study of Religion',\n",
    "        'TWS' : 'Literature Third World Studies',\n",
    "        'NANO': 'Nano Engineering',\n",
    "        'MGT' : 'Rady School of Management',\n",
    "        'ENG' : 'Jacobs School of Engineering',\n",
    "        'LIGN': 'Linguistics',\n",
    "        'TDAC': 'Theatre Acting',\n",
    "        'TDCH': 'Theatre Dance Choreography',\n",
    "        'TDDE': 'Theatre Design',\n",
    "        'TDDR': 'Theatre Directing/Stage Management',\n",
    "        'TDGE': 'Theatre General',\n",
    "        'TDHD': 'Theatre Dance History',\n",
    "        'TDHT': 'Theatre History',\n",
    "        'TDMV': 'Theatre Dance Movement',\n",
    "        'TDPF': 'Theatre Dance Performance',\n",
    "        'TDPW': 'Theatre Playwriting',\n",
    "        'TDTR': 'Theatre Dance Theory',\n",
    "    })\n",
    "\n",
    "    # Create Categorical Series\n",
    "    dep = pd.Series(name='department_name', data=mapping)\n",
    "\n",
    "    # Reindexing\n",
    "    dep = dep.map(lambda x: np.nan if x == '' else x)\n",
    "    dep = dep.dropna()\n",
    "    dep.index.name = 'Departments'\n",
    "\n",
    "    return dep"
   ]
  },
  {
   "cell_type": "markdown",
   "metadata": {},
   "source": [
    "# Data Munging"
   ]
  },
  {
   "cell_type": "code",
   "execution_count": 8,
   "metadata": {
    "collapsed": true,
    "slideshow": {
     "slide_type": "subslide"
    }
   },
   "outputs": [],
   "source": [
    "def create_table(courses):\n",
    "    \"\"\"\n",
    "    Generates a pandas DataFrame by querying UCSD Cape Website.\n",
    "\n",
    "    Parameters\n",
    "    ==========\n",
    "    :params courses: Either Course or Path to HTML File\n",
    "\n",
    "    Returns\n",
    "    =======\n",
    "    :returns df:     Query Results\n",
    "    :rtype:          pandas.DataFrame\n",
    "    \"\"\"\n",
    "    header = [\n",
    "        'instructor', 'course', 'term', 'enroll', 'evals',\n",
    "        'recommend_class', 'recommend_instructor', 'study_hours_per_week',\n",
    "        'average_grade_expected', 'average_grade_received'\n",
    "    ]\n",
    "    first, second = itemgetter(0), itemgetter(1)\n",
    "\n",
    "    print('\\nGrabbing Classes: {0}'.format(courses))\n",
    "\n",
    "    # Get Data\n",
    "    base  = 'http://cape.ucsd.edu/responses/'\n",
    "    req   =  (\n",
    "                open(courses).read()\n",
    "                if   os.path.isfile(courses)\n",
    "                else connect(\"http\", courseNumber=courses).content\n",
    "            )\n",
    "    html  = BeautifulSoup(req, 'lxml')\n",
    "    table = first(html.find_all('table'))\n",
    "\n",
    "    # Create Dataframe\n",
    "    df    = first(pd.read_html(str(table)), flavor=None, na_values=['No CAPEs submitted'])\n",
    "\n",
    "    # Data Clean Up\n",
    "    df.columns = header\n",
    "    df['link']       = [\n",
    "        urljoin(base, link.attrs['href']) if link.has_attr('href') else np.nan\n",
    "            for link in table.find_all('a')\n",
    "    ]\n",
    "    df['instructor'] = df.instructor.map(\n",
    "        lambda name: (\n",
    "            str.title(name)\n",
    "            if isinstance(name, str) else 'Unknown, Unknonwn'\n",
    "        )\n",
    "    )\n",
    "    # Data Extraction\n",
    "    df['first_name']  = df.instructor.map(lambda name:  second(name.split(',')).strip('.'))\n",
    "    df['last_name']   = df.instructor.map(lambda name:   first(name.split(',')))\n",
    "    df['class_id']    = df.course.map(  lambda course: first(course.split(' - ')))\n",
    "    df['department']  = df.class_id.map(lambda course:  first(course.split(' ')))\n",
    "    df['class_name']  = df.course.map(\n",
    "        lambda course: (\n",
    "            second(course.split(' - '))[:-4]\n",
    "            if ' - ' in course else np.nan)\n",
    "    )\n",
    "    # Data Types\n",
    "    df['recommend_class']        = df.recommend_class.map(calculate_percentage)\n",
    "    df['recommend_instructor']   = df.recommend_instructor.map(calculate_percentage)\n",
    "    df['average_grade_expected'] = df.average_grade_expected.map(calculate_grades)\n",
    "    df['average_grade_received'] = df.average_grade_received.map(calculate_grades)\n",
    "\n",
    "    # Reindexing and Transforms\n",
    "    df['section_id'] = df.link.map(calculate_section_id)\n",
    "    df = df.dropna(subset=['section_id'])\n",
    "    df = df.drop_duplicates(subset='section_id')\n",
    "    df['section_id'] = df.section_id.astype(np.int32)\n",
    "\n",
    "    return df.set_index('section_id', drop=True)\n",
    "\n",
    "def calculate_percentage(element):\n",
    "    if isinstance(element, str):\n",
    "        return np.float(element.strip('%').strip()) / 100\n",
    "    else:\n",
    "        return np.nan\n",
    "\n",
    "def calculate_grades(element):\n",
    "    if isinstance(element, str):\n",
    "        return np.float(element[1:].lstrip('+-').lstrip().strip('()'))\n",
    "    else:\n",
    "        return np.nan\n",
    "\n",
    "def calculate_section_id(element):\n",
    "    if isinstance(element, str):\n",
    "        return int(element.lower().rsplit('sectionid=')[-1].strip(string.ascii_letters))\n",
    "    else:\n",
    "        return np.nan"
   ]
  },
  {
   "cell_type": "code",
   "execution_count": 9,
   "metadata": {
    "collapsed": true,
    "slideshow": {
     "slide_type": "subslide"
    }
   },
   "outputs": [],
   "source": [
    "def to_db(df, table, user='postgres', db='graphucsd', resolve='replace'):\n",
    "    \"\"\"\n",
    "    Helper Function to Push DataFrame to Postgresql Database\n",
    "    \"\"\"\n",
    "    url = 'postgresql+psycopg2://{user}@localhost/{db}'.format(user=user, db=db)\n",
    "\n",
    "    if not database_exists(url):\n",
    "        create_database(url)\n",
    "\n",
    "    engine = create_engine(url)\n",
    "\n",
    "    return df.to_sql(table, engine, if_exists=resolve)"
   ]
  },
  {
   "cell_type": "code",
   "execution_count": 10,
   "metadata": {
    "collapsed": false
   },
   "outputs": [
    {
     "name": "stdout",
     "output_type": "stream",
     "text": [
      "\n",
      "Grabbing Classes: CHEM\n"
     ]
    }
   ],
   "source": [
    "df = create_table('CHEM')"
   ]
  },
  {
   "cell_type": "code",
   "execution_count": 11,
   "metadata": {
    "collapsed": false
   },
   "outputs": [],
   "source": [
    "header = [\n",
    "    'instructor', 'course', 'term', 'enroll', 'evals',\n",
    "    'recommend_class', 'recommend_instructor', 'study_hours_per_week',\n",
    "    'average_grade_expected', 'average_grade_received'\n",
    "]\n",
    "first, second = itemgetter(0), itemgetter(1)\n",
    "base  = 'http://cape.ucsd.edu/responses/'\n",
    "req   = connect(\"http\", courseNumber='CSE').content\n",
    "html  = BeautifulSoup(req, 'lxml')\n",
    "table = first(html.find_all('table'))"
   ]
  },
  {
   "cell_type": "code",
   "execution_count": 12,
   "metadata": {
    "collapsed": true
   },
   "outputs": [],
   "source": [
    "def calculate_percentage(element):\n",
    "    if isinstance(element, str):\n",
    "        return np.float(element.strip('%').strip()) / 100\n",
    "    else:\n",
    "        return np.nan\n"
   ]
  },
  {
   "cell_type": "code",
   "execution_count": 13,
   "metadata": {
    "collapsed": true
   },
   "outputs": [],
   "source": [
    "import pandas as pd"
   ]
  },
  {
   "cell_type": "code",
   "execution_count": 14,
   "metadata": {
    "collapsed": false
   },
   "outputs": [],
   "source": [
    "df = first(pd.read_html(str(table)), flavor=None, na_values=['No CAPEs submitted'])"
   ]
  },
  {
   "cell_type": "code",
   "execution_count": null,
   "metadata": {
    "collapsed": false
   },
   "outputs": [],
   "source": []
  },
  {
   "cell_type": "markdown",
   "metadata": {},
   "source": [
    "# Make it Go Fast with Multi Threading"
   ]
  },
  {
   "cell_type": "code",
   "execution_count": 15,
   "metadata": {
    "collapsed": true,
    "slideshow": {
     "slide_type": "subslide"
    }
   },
   "outputs": [],
   "source": [
    "def main(threads=6):\n",
    "    \"\"\"\n",
    "    Get all departments\n",
    "    \"\"\"\n",
    "    logging.info('Program is Starting')\n",
    "\n",
    "    # Get Departments\n",
    "    deps  = departments()\n",
    "    keys  = [department.strip() for department in deps.keys()]\n",
    "\n",
    "    # Run Scraper Concurrently Using ThreadPool\n",
    "    pool  = ThreadPool(threads)\n",
    "    logging.info('Initialize Scraper with {} Threads'.format(threads))\n",
    "    table = pool.map(create_table, keys)\n",
    "    logging.info('Scrape Complete')\n",
    "\n",
    "    # Manage ThreadPool\n",
    "    pool.close(); pool.join()\n",
    "\n",
    "    df = pd.concat(table)\n",
    "\n",
    "    return df.groupby(level=0).first()"
   ]
  },
  {
   "cell_type": "code",
   "execution_count": null,
   "metadata": {
    "collapsed": true
   },
   "outputs": [],
   "source": []
  },
  {
   "cell_type": "code",
   "execution_count": null,
   "metadata": {
    "collapsed": true
   },
   "outputs": [],
   "source": []
  }
 ],
 "metadata": {
  "celltoolbar": "Slideshow",
  "kernelspec": {
   "display_name": "Python 2",
   "language": "python",
   "name": "python2"
  },
  "language_info": {
   "codemirror_mode": {
    "name": "ipython",
    "version": 2
   },
   "file_extension": ".py",
   "mimetype": "text/x-python",
   "name": "python",
   "nbconvert_exporter": "python",
   "pygments_lexer": "ipython2",
   "version": "2.7.10"
  }
 },
 "nbformat": 4,
 "nbformat_minor": 0
}
